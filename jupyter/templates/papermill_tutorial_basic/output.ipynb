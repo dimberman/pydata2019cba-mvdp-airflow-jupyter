{
 "cells": [
  {
   "cell_type": "markdown",
   "metadata": {
    "papermill": {
     "duration": 0.014373,
     "end_time": "2019-09-27T11:22:30.730534",
     "exception": false,
     "start_time": "2019-09-27T11:22:30.716161",
     "status": "completed"
    },
    "tags": []
   },
   "source": [
    "Set cell metadata!\n",
    "```\n",
    "{\n",
    "    \"tags\": [\n",
    "        \"parameters\"\n",
    "    ]\n",
    "}\n",
    "```"
   ]
  },
  {
   "cell_type": "code",
   "execution_count": 1,
   "metadata": {
    "papermill": {
     "duration": 0.017495,
     "end_time": "2019-09-27T11:22:30.760460",
     "exception": false,
     "start_time": "2019-09-27T11:22:30.742965",
     "status": "completed"
    },
    "tags": [
     "parameters"
    ]
   },
   "outputs": [],
   "source": [
    "#parameters\n",
    "a = 'a'\n",
    "b = 'b'"
   ]
  },
  {
   "cell_type": "code",
   "execution_count": 2,
   "metadata": {
    "papermill": {
     "duration": 0.016634,
     "end_time": "2019-09-27T11:22:30.786163",
     "exception": false,
     "start_time": "2019-09-27T11:22:30.769529",
     "status": "completed"
    },
    "tags": [
     "injected-parameters"
    ]
   },
   "outputs": [],
   "source": [
    "# Parameters\n",
    "a = \"foo\"\n",
    "b = \"bar\"\n"
   ]
  },
  {
   "cell_type": "code",
   "execution_count": 3,
   "metadata": {
    "papermill": {
     "duration": 0.01981,
     "end_time": "2019-09-27T11:22:30.815086",
     "exception": false,
     "start_time": "2019-09-27T11:22:30.795276",
     "status": "completed"
    },
    "tags": []
   },
   "outputs": [
    {
     "name": "stdout",
     "output_type": "stream",
     "text": [
      "a = foo\n"
     ]
    }
   ],
   "source": [
    "print(f'a = {a}')"
   ]
  },
  {
   "cell_type": "code",
   "execution_count": 4,
   "metadata": {
    "papermill": {
     "duration": 0.017391,
     "end_time": "2019-09-27T11:22:30.841333",
     "exception": false,
     "start_time": "2019-09-27T11:22:30.823942",
     "status": "completed"
    },
    "tags": []
   },
   "outputs": [
    {
     "name": "stdout",
     "output_type": "stream",
     "text": [
      "b = bar\n"
     ]
    }
   ],
   "source": [
    "print(f'b = {b}')"
   ]
  },
  {
   "cell_type": "code",
   "execution_count": null,
   "metadata": {
    "papermill": {
     "duration": 0.010033,
     "end_time": "2019-09-27T11:22:30.864353",
     "exception": false,
     "start_time": "2019-09-27T11:22:30.854320",
     "status": "completed"
    },
    "tags": []
   },
   "outputs": [],
   "source": []
  }
 ],
 "metadata": {
  "kernelspec": {
   "display_name": "Python 3",
   "language": "python",
   "name": "python3"
  },
  "language_info": {
   "codemirror_mode": {
    "name": "ipython",
    "version": 3
   },
   "file_extension": ".py",
   "mimetype": "text/x-python",
   "name": "python",
   "nbconvert_exporter": "python",
   "pygments_lexer": "ipython3",
   "version": "3.7.3"
  },
  "papermill": {
   "duration": 1.227701,
   "end_time": "2019-09-27T11:22:31.098530",
   "environment_variables": {},
   "exception": null,
   "input_path": "/home/jovyan/work/jupyter/templates/papermill_tutorial_basic/input.ipynb",
   "output_path": "/home/jovyan/work/jupyter/templates/papermill_tutorial_basic/output.ipynb",
   "parameters": {
    "a": "foo",
    "b": "bar"
   },
   "start_time": "2019-09-27T11:22:29.870829",
   "version": "1.0.1"
  }
 },
 "nbformat": 4,
 "nbformat_minor": 4
}