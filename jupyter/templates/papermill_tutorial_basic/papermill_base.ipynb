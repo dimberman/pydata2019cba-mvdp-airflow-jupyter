{
 "cells": [
  {
   "cell_type": "code",
   "execution_count": 1,
   "metadata": {},
   "outputs": [],
   "source": [
    "import papermill as pm\n",
    "import scrapbook as sb\n",
    "\n",
    "input_nb = '/home/jovyan/work/jupyter/templates/papermill_tutorial_basic/input.ipynb'\n",
    "output_nb = '/home/jovyan/work/jupyter/templates/papermill_tutorial_basic/output.ipynb'"
   ]
  },
  {
   "cell_type": "code",
   "execution_count": 2,
   "metadata": {},
   "outputs": [
    {
     "data": {
      "application/vnd.jupyter.widget-view+json": {
       "model_id": "b2051130984448b48a8445c48293a387",
       "version_major": 2,
       "version_minor": 0
      },
      "text/plain": [
       "HBox(children=(IntProgress(value=0, max=6), HTML(value='')))"
      ]
     },
     "metadata": {},
     "output_type": "display_data"
    },
    {
     "name": "stdout",
     "output_type": "stream",
     "text": [
      "\n"
     ]
    },
    {
     "data": {
      "text/plain": [
       "{'cells': [{'cell_type': 'markdown',\n",
       "   'metadata': {'tags': [],\n",
       "    'papermill': {'exception': False,\n",
       "     'start_time': '2019-09-27T11:22:30.716161',\n",
       "     'end_time': '2019-09-27T11:22:30.730534',\n",
       "     'duration': 0.014373,\n",
       "     'status': 'completed'}},\n",
       "   'source': 'Set cell metadata!\\n```\\n{\\n    \"tags\": [\\n        \"parameters\"\\n    ]\\n}\\n```'},\n",
       "  {'cell_type': 'code',\n",
       "   'execution_count': 1,\n",
       "   'metadata': {'tags': ['parameters'],\n",
       "    'papermill': {'exception': False,\n",
       "     'start_time': '2019-09-27T11:22:30.742965',\n",
       "     'end_time': '2019-09-27T11:22:30.760460',\n",
       "     'duration': 0.017495,\n",
       "     'status': 'completed'}},\n",
       "   'outputs': [],\n",
       "   'source': \"#parameters\\na = 'a'\\nb = 'b'\"},\n",
       "  {'cell_type': 'code',\n",
       "   'metadata': {'tags': ['injected-parameters'],\n",
       "    'papermill': {'exception': False,\n",
       "     'start_time': '2019-09-27T11:22:30.769529',\n",
       "     'end_time': '2019-09-27T11:22:30.786163',\n",
       "     'duration': 0.016634,\n",
       "     'status': 'completed'}},\n",
       "   'execution_count': 2,\n",
       "   'source': '# Parameters\\na = \"foo\"\\nb = \"bar\"\\n',\n",
       "   'outputs': []},\n",
       "  {'cell_type': 'code',\n",
       "   'execution_count': 3,\n",
       "   'metadata': {'tags': [],\n",
       "    'papermill': {'exception': False,\n",
       "     'start_time': '2019-09-27T11:22:30.795276',\n",
       "     'end_time': '2019-09-27T11:22:30.815086',\n",
       "     'duration': 0.01981,\n",
       "     'status': 'completed'}},\n",
       "   'outputs': [{'output_type': 'stream',\n",
       "     'name': 'stdout',\n",
       "     'text': 'a = foo\\n'}],\n",
       "   'source': \"print(f'a = {a}')\"},\n",
       "  {'cell_type': 'code',\n",
       "   'execution_count': 4,\n",
       "   'metadata': {'tags': [],\n",
       "    'papermill': {'exception': False,\n",
       "     'start_time': '2019-09-27T11:22:30.823942',\n",
       "     'end_time': '2019-09-27T11:22:30.841333',\n",
       "     'duration': 0.017391,\n",
       "     'status': 'completed'}},\n",
       "   'outputs': [{'output_type': 'stream',\n",
       "     'name': 'stdout',\n",
       "     'text': 'b = bar\\n'}],\n",
       "   'source': \"print(f'b = {b}')\"},\n",
       "  {'cell_type': 'code',\n",
       "   'execution_count': None,\n",
       "   'metadata': {'tags': [],\n",
       "    'papermill': {'exception': False,\n",
       "     'start_time': '2019-09-27T11:22:30.854320',\n",
       "     'end_time': '2019-09-27T11:22:30.864353',\n",
       "     'duration': 0.010033,\n",
       "     'status': 'completed'}},\n",
       "   'outputs': [],\n",
       "   'source': ''}],\n",
       " 'metadata': {'kernelspec': {'display_name': 'Python 3',\n",
       "   'language': 'python',\n",
       "   'name': 'python3'},\n",
       "  'language_info': {'name': 'python',\n",
       "   'version': '3.7.3',\n",
       "   'mimetype': 'text/x-python',\n",
       "   'codemirror_mode': {'name': 'ipython', 'version': 3},\n",
       "   'pygments_lexer': 'ipython3',\n",
       "   'nbconvert_exporter': 'python',\n",
       "   'file_extension': '.py'},\n",
       "  'papermill': {'parameters': {'a': 'foo', 'b': 'bar'},\n",
       "   'environment_variables': {},\n",
       "   'version': '1.0.1',\n",
       "   'input_path': '/home/jovyan/work/jupyter/templates/papermill_tutorial_basic/input.ipynb',\n",
       "   'output_path': '/home/jovyan/work/jupyter/templates/papermill_tutorial_basic/output.ipynb',\n",
       "   'start_time': '2019-09-27T11:22:29.870829',\n",
       "   'end_time': '2019-09-27T11:22:31.098530',\n",
       "   'duration': 1.227701,\n",
       "   'exception': None}},\n",
       " 'nbformat': 4,\n",
       " 'nbformat_minor': 4}"
      ]
     },
     "execution_count": 2,
     "metadata": {},
     "output_type": "execute_result"
    }
   ],
   "source": [
    "pm.execute_notebook(\n",
    "    input_nb, \n",
    "    output_nb,\n",
    "    parameters=dict(a='foo', b='bar')\n",
    ")"
   ]
  },
  {
   "cell_type": "code",
   "execution_count": null,
   "metadata": {},
   "outputs": [],
   "source": []
  }
 ],
 "metadata": {
  "kernelspec": {
   "display_name": "Python 3",
   "language": "python",
   "name": "python3"
  },
  "language_info": {
   "codemirror_mode": {
    "name": "ipython",
    "version": 3
   },
   "file_extension": ".py",
   "mimetype": "text/x-python",
   "name": "python",
   "nbconvert_exporter": "python",
   "pygments_lexer": "ipython3",
   "version": "3.7.3"
  }
 },
 "nbformat": 4,
 "nbformat_minor": 4
}
