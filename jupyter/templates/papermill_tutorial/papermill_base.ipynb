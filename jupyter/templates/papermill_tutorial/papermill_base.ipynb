{
 "cells": [
  {
   "cell_type": "code",
   "execution_count": 1,
   "metadata": {},
   "outputs": [],
   "source": [
    "import papermill as pm\n",
    "import scrapbook as sb\n",
    "\n",
    "input_nb = '/home/jovyan/work/jupyter/templates/papermill_tutorial/input.ipynb'\n",
    "output_nb = '/home/jovyan/work/jupyter/templates/papermill_tutorial/output.ipynb'"
   ]
  },
  {
   "cell_type": "code",
   "execution_count": 2,
   "metadata": {},
   "outputs": [
    {
     "data": {
      "text/plain": [
       "Scraps([('a_var', Scrap(name='a_var', data='a', encoder='text', display=None)),\n",
       "        ('b_var',\n",
       "         Scrap(name='b_var', data='b', encoder='text', display=None))])"
      ]
     },
     "execution_count": 2,
     "metadata": {},
     "output_type": "execute_result"
    }
   ],
   "source": [
    "# Input Scraps\n",
    "nb = sb.read_notebook(input_nb)\n",
    "nb.scraps"
   ]
  },
  {
   "cell_type": "code",
   "execution_count": 3,
   "metadata": {},
   "outputs": [
    {
     "data": {
      "application/vnd.jupyter.widget-view+json": {
       "model_id": "3abc366d1a5945d2b4138f1e6f0c3add",
       "version_major": 2,
       "version_minor": 0
      },
      "text/plain": [
       "HBox(children=(IntProgress(value=0, max=7), HTML(value='')))"
      ]
     },
     "metadata": {},
     "output_type": "display_data"
    },
    {
     "name": "stdout",
     "output_type": "stream",
     "text": [
      "\n"
     ]
    },
    {
     "data": {
      "text/plain": [
       "{'cells': [{'cell_type': 'markdown',\n",
       "   'metadata': {'tags': [],\n",
       "    'papermill': {'exception': False,\n",
       "     'start_time': '2019-09-23T23:45:11.483811',\n",
       "     'end_time': '2019-09-23T23:45:11.560012',\n",
       "     'duration': 0.076201,\n",
       "     'status': 'completed'}},\n",
       "   'source': 'Set cell metadata!\\n```\\n{\\n    \"tags\": [\\n        \"parameters\"\\n    ]\\n}\\n```'},\n",
       "  {'cell_type': 'code',\n",
       "   'execution_count': 1,\n",
       "   'metadata': {'tags': ['parameters'],\n",
       "    'papermill': {'exception': False,\n",
       "     'start_time': '2019-09-23T23:45:11.572354',\n",
       "     'end_time': '2019-09-23T23:45:11.592375',\n",
       "     'duration': 0.020021,\n",
       "     'status': 'completed'}},\n",
       "   'outputs': [],\n",
       "   'source': \"#parameters\\na = 'a'\\nb = 'b'\"},\n",
       "  {'cell_type': 'code',\n",
       "   'metadata': {'tags': ['injected-parameters'],\n",
       "    'papermill': {'exception': False,\n",
       "     'start_time': '2019-09-23T23:45:11.604304',\n",
       "     'end_time': '2019-09-23T23:45:11.627379',\n",
       "     'duration': 0.023075,\n",
       "     'status': 'completed'}},\n",
       "   'execution_count': 2,\n",
       "   'source': '# Parameters\\na = \"foo\"\\nb = \"bar\"\\n',\n",
       "   'outputs': []},\n",
       "  {'cell_type': 'code',\n",
       "   'execution_count': 3,\n",
       "   'metadata': {'tags': [],\n",
       "    'papermill': {'exception': False,\n",
       "     'start_time': '2019-09-23T23:45:11.641650',\n",
       "     'end_time': '2019-09-23T23:45:11.667052',\n",
       "     'duration': 0.025402,\n",
       "     'status': 'completed'}},\n",
       "   'outputs': [{'output_type': 'stream',\n",
       "     'name': 'stdout',\n",
       "     'text': 'a = foo\\n'}],\n",
       "   'source': \"print(f'a = {a}')\"},\n",
       "  {'cell_type': 'code',\n",
       "   'execution_count': 4,\n",
       "   'metadata': {'tags': [],\n",
       "    'papermill': {'exception': False,\n",
       "     'start_time': '2019-09-23T23:45:11.681504',\n",
       "     'end_time': '2019-09-23T23:45:11.708159',\n",
       "     'duration': 0.026655,\n",
       "     'status': 'completed'}},\n",
       "   'outputs': [{'output_type': 'stream',\n",
       "     'name': 'stdout',\n",
       "     'text': 'b = bar\\n'}],\n",
       "   'source': \"print(f'b = {b}')\"},\n",
       "  {'cell_type': 'code',\n",
       "   'execution_count': 5,\n",
       "   'metadata': {'tags': [],\n",
       "    'papermill': {'exception': False,\n",
       "     'start_time': '2019-09-23T23:45:11.721057',\n",
       "     'end_time': '2019-09-23T23:45:12.796417',\n",
       "     'duration': 1.07536,\n",
       "     'status': 'completed'}},\n",
       "   'outputs': [{'output_type': 'display_data',\n",
       "     'metadata': {'scrapbook': {'name': 'a_var',\n",
       "       'data': True,\n",
       "       'display': False}},\n",
       "     'data': {'application/scrapbook.scrap.text+json': {'name': 'a_var',\n",
       "       'data': 'foo',\n",
       "       'encoder': 'text',\n",
       "       'version': 1}}},\n",
       "    {'output_type': 'display_data',\n",
       "     'metadata': {'scrapbook': {'name': 'b_var',\n",
       "       'data': True,\n",
       "       'display': False}},\n",
       "     'data': {'application/scrapbook.scrap.text+json': {'name': 'b_var',\n",
       "       'data': 'bar',\n",
       "       'encoder': 'text',\n",
       "       'version': 1}}}],\n",
       "   'source': 'import scrapbook as sb\\n\\nsb.glue(\"a_var\", a)\\nsb.glue(\"b_var\", b)'},\n",
       "  {'cell_type': 'code',\n",
       "   'execution_count': None,\n",
       "   'metadata': {'tags': [],\n",
       "    'papermill': {'exception': False,\n",
       "     'start_time': '2019-09-23T23:45:12.811809',\n",
       "     'end_time': '2019-09-23T23:45:12.827984',\n",
       "     'duration': 0.016175,\n",
       "     'status': 'completed'}},\n",
       "   'outputs': [],\n",
       "   'source': ''}],\n",
       " 'metadata': {'kernelspec': {'display_name': 'Python 3',\n",
       "   'language': 'python',\n",
       "   'name': 'python3'},\n",
       "  'language_info': {'name': 'python',\n",
       "   'version': '3.7.3',\n",
       "   'mimetype': 'text/x-python',\n",
       "   'codemirror_mode': {'name': 'ipython', 'version': 3},\n",
       "   'pygments_lexer': 'ipython3',\n",
       "   'nbconvert_exporter': 'python',\n",
       "   'file_extension': '.py'},\n",
       "  'papermill': {'parameters': {'a': 'foo', 'b': 'bar'},\n",
       "   'environment_variables': {},\n",
       "   'version': '1.0.1',\n",
       "   'input_path': '/home/jovyan/work/jupyter/templates/papermill_tutorial/input.ipynb',\n",
       "   'output_path': '/home/jovyan/work/jupyter/templates/papermill_tutorial/output.ipynb',\n",
       "   'start_time': '2019-09-23T23:45:10.390705',\n",
       "   'end_time': '2019-09-23T23:45:13.256858',\n",
       "   'duration': 2.866153,\n",
       "   'exception': None}},\n",
       " 'nbformat': 4,\n",
       " 'nbformat_minor': 4}"
      ]
     },
     "execution_count": 3,
     "metadata": {},
     "output_type": "execute_result"
    }
   ],
   "source": [
    "pm.execute_notebook(\n",
    "    input_nb, \n",
    "    output_nb,\n",
    "    parameters=dict(a='foo', b='bar')\n",
    ")"
   ]
  },
  {
   "cell_type": "code",
   "execution_count": 4,
   "metadata": {},
   "outputs": [
    {
     "data": {
      "text/plain": [
       "Scraps([('a_var',\n",
       "         Scrap(name='a_var', data='foo', encoder='text', display=None)),\n",
       "        ('b_var',\n",
       "         Scrap(name='b_var', data='bar', encoder='text', display=None))])"
      ]
     },
     "execution_count": 4,
     "metadata": {},
     "output_type": "execute_result"
    }
   ],
   "source": [
    "# Output Scraps\n",
    "nb = sb.read_notebook(output_nb)\n",
    "nb.scraps"
   ]
  },
  {
   "cell_type": "code",
   "execution_count": null,
   "metadata": {},
   "outputs": [],
   "source": []
  }
 ],
 "metadata": {
  "kernelspec": {
   "display_name": "Python 3",
   "language": "python",
   "name": "python3"
  },
  "language_info": {
   "codemirror_mode": {
    "name": "ipython",
    "version": 3
   },
   "file_extension": ".py",
   "mimetype": "text/x-python",
   "name": "python",
   "nbconvert_exporter": "python",
   "pygments_lexer": "ipython3",
   "version": "3.7.3"
  }
 },
 "nbformat": 4,
 "nbformat_minor": 4
}
