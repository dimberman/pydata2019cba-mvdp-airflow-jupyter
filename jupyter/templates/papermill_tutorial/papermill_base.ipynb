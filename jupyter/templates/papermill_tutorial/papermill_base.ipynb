{
 "cells": [
  {
   "cell_type": "code",
   "execution_count": 1,
   "metadata": {},
   "outputs": [
    {
     "data": {
      "application/vnd.jupyter.widget-view+json": {
       "model_id": "810724d67bbc4c7698b39e9164c0b657",
       "version_major": 2,
       "version_minor": 0
      },
      "text/plain": [
       "HBox(children=(IntProgress(value=0, max=6), HTML(value='')))"
      ]
     },
     "metadata": {},
     "output_type": "display_data"
    },
    {
     "name": "stdout",
     "output_type": "stream",
     "text": [
      "\n"
     ]
    },
    {
     "data": {
      "text/plain": [
       "{'cells': [{'cell_type': 'markdown',\n",
       "   'metadata': {'tags': [],\n",
       "    'papermill': {'exception': False,\n",
       "     'start_time': '2019-09-23T02:34:38.426685',\n",
       "     'end_time': '2019-09-23T02:34:38.438539',\n",
       "     'duration': 0.011854,\n",
       "     'status': 'completed'}},\n",
       "   'source': '```\\n{\\n    \"tags\": [\\n        \"parameters\"\\n    ]\\n}\\n```'},\n",
       "  {'cell_type': 'code',\n",
       "   'execution_count': 1,\n",
       "   'metadata': {'tags': ['parameters'],\n",
       "    'papermill': {'exception': False,\n",
       "     'start_time': '2019-09-23T02:34:38.450736',\n",
       "     'end_time': '2019-09-23T02:34:38.480152',\n",
       "     'duration': 0.029416,\n",
       "     'status': 'completed'}},\n",
       "   'outputs': [],\n",
       "   'source': \"#parameters\\na = 'a'\\nb = 'b'\"},\n",
       "  {'cell_type': 'code',\n",
       "   'metadata': {'tags': ['injected-parameters'],\n",
       "    'papermill': {'exception': False,\n",
       "     'start_time': '2019-09-23T02:34:38.493252',\n",
       "     'end_time': '2019-09-23T02:34:38.512618',\n",
       "     'duration': 0.019366,\n",
       "     'status': 'completed'}},\n",
       "   'execution_count': 2,\n",
       "   'source': '# Parameters\\na = \"b\"\\nb = \"a\"\\n',\n",
       "   'outputs': []},\n",
       "  {'cell_type': 'code',\n",
       "   'execution_count': 3,\n",
       "   'metadata': {'tags': [],\n",
       "    'papermill': {'exception': False,\n",
       "     'start_time': '2019-09-23T02:34:38.523739',\n",
       "     'end_time': '2019-09-23T02:34:38.544055',\n",
       "     'duration': 0.020316,\n",
       "     'status': 'completed'}},\n",
       "   'outputs': [{'output_type': 'stream', 'name': 'stdout', 'text': 'a = b\\n'}],\n",
       "   'source': \"print(f'a = {a}')\"},\n",
       "  {'cell_type': 'code',\n",
       "   'execution_count': 4,\n",
       "   'metadata': {'tags': [],\n",
       "    'papermill': {'exception': False,\n",
       "     'start_time': '2019-09-23T02:34:38.556998',\n",
       "     'end_time': '2019-09-23T02:34:38.581000',\n",
       "     'duration': 0.024002,\n",
       "     'status': 'completed'}},\n",
       "   'outputs': [{'output_type': 'stream', 'name': 'stdout', 'text': 'b = a\\n'}],\n",
       "   'source': \"print(f'b = {b}')\"},\n",
       "  {'cell_type': 'code',\n",
       "   'execution_count': None,\n",
       "   'metadata': {'tags': [],\n",
       "    'papermill': {'exception': False,\n",
       "     'start_time': '2019-09-23T02:34:38.592589',\n",
       "     'end_time': '2019-09-23T02:34:38.604956',\n",
       "     'duration': 0.012367,\n",
       "     'status': 'completed'}},\n",
       "   'outputs': [],\n",
       "   'source': ''}],\n",
       " 'metadata': {'kernelspec': {'display_name': 'Python 3',\n",
       "   'language': 'python',\n",
       "   'name': 'python3'},\n",
       "  'language_info': {'name': 'python',\n",
       "   'version': '3.7.3',\n",
       "   'mimetype': 'text/x-python',\n",
       "   'codemirror_mode': {'name': 'ipython', 'version': 3},\n",
       "   'pygments_lexer': 'ipython3',\n",
       "   'nbconvert_exporter': 'python',\n",
       "   'file_extension': '.py'},\n",
       "  'papermill': {'parameters': {'a': 'b', 'b': 'a'},\n",
       "   'environment_variables': {},\n",
       "   'version': '1.0.1',\n",
       "   'input_path': '/home/jovyan/work/jupyter/templates/papermill_tutorial/input.ipynb',\n",
       "   'output_path': '/home/jovyan/work/jupyter/templates/papermill_tutorial/output.ipynb',\n",
       "   'start_time': '2019-09-23T02:34:37.530371',\n",
       "   'end_time': '2019-09-23T02:34:38.826285',\n",
       "   'duration': 1.295914,\n",
       "   'exception': None}},\n",
       " 'nbformat': 4,\n",
       " 'nbformat_minor': 4}"
      ]
     },
     "execution_count": 1,
     "metadata": {},
     "output_type": "execute_result"
    }
   ],
   "source": [
    "import papermill as pm\n",
    "\n",
    "pm.execute_notebook(\n",
    "   '/home/jovyan/work/jupyter/templates/papermill_tutorial/input.ipynb',\n",
    "   '/home/jovyan/work/jupyter/templates/papermill_tutorial/output.ipynb',\n",
    "   parameters=dict(a='b', b='a')\n",
    ")"
   ]
  },
  {
   "cell_type": "code",
   "execution_count": null,
   "metadata": {},
   "outputs": [],
   "source": []
  }
 ],
 "metadata": {
  "kernelspec": {
   "display_name": "Python 3",
   "language": "python",
   "name": "python3"
  },
  "language_info": {
   "codemirror_mode": {
    "name": "ipython",
    "version": 3
   },
   "file_extension": ".py",
   "mimetype": "text/x-python",
   "name": "python",
   "nbconvert_exporter": "python",
   "pygments_lexer": "ipython3",
   "version": "3.7.3"
  }
 },
 "nbformat": 4,
 "nbformat_minor": 4
}
