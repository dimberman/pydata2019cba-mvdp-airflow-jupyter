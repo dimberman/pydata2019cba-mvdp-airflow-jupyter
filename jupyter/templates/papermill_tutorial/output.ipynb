{
 "cells": [
  {
   "cell_type": "markdown",
   "metadata": {
    "papermill": {
     "duration": 0.011854,
     "end_time": "2019-09-23T02:34:38.438539",
     "exception": false,
     "start_time": "2019-09-23T02:34:38.426685",
     "status": "completed"
    },
    "tags": []
   },
   "source": [
    "```\n",
    "{\n",
    "    \"tags\": [\n",
    "        \"parameters\"\n",
    "    ]\n",
    "}\n",
    "```"
   ]
  },
  {
   "cell_type": "code",
   "execution_count": 1,
   "metadata": {
    "papermill": {
     "duration": 0.029416,
     "end_time": "2019-09-23T02:34:38.480152",
     "exception": false,
     "start_time": "2019-09-23T02:34:38.450736",
     "status": "completed"
    },
    "tags": [
     "parameters"
    ]
   },
   "outputs": [],
   "source": [
    "#parameters\n",
    "a = 'a'\n",
    "b = 'b'"
   ]
  },
  {
   "cell_type": "code",
   "execution_count": 2,
   "metadata": {
    "papermill": {
     "duration": 0.019366,
     "end_time": "2019-09-23T02:34:38.512618",
     "exception": false,
     "start_time": "2019-09-23T02:34:38.493252",
     "status": "completed"
    },
    "tags": [
     "injected-parameters"
    ]
   },
   "outputs": [],
   "source": [
    "# Parameters\n",
    "a = \"b\"\n",
    "b = \"a\"\n"
   ]
  },
  {
   "cell_type": "code",
   "execution_count": 3,
   "metadata": {
    "papermill": {
     "duration": 0.020316,
     "end_time": "2019-09-23T02:34:38.544055",
     "exception": false,
     "start_time": "2019-09-23T02:34:38.523739",
     "status": "completed"
    },
    "tags": []
   },
   "outputs": [
    {
     "name": "stdout",
     "output_type": "stream",
     "text": [
      "a = b\n"
     ]
    }
   ],
   "source": [
    "print(f'a = {a}')"
   ]
  },
  {
   "cell_type": "code",
   "execution_count": 4,
   "metadata": {
    "papermill": {
     "duration": 0.024002,
     "end_time": "2019-09-23T02:34:38.581000",
     "exception": false,
     "start_time": "2019-09-23T02:34:38.556998",
     "status": "completed"
    },
    "tags": []
   },
   "outputs": [
    {
     "name": "stdout",
     "output_type": "stream",
     "text": [
      "b = a\n"
     ]
    }
   ],
   "source": [
    "print(f'b = {b}')"
   ]
  },
  {
   "cell_type": "code",
   "execution_count": null,
   "metadata": {
    "papermill": {
     "duration": 0.012367,
     "end_time": "2019-09-23T02:34:38.604956",
     "exception": false,
     "start_time": "2019-09-23T02:34:38.592589",
     "status": "completed"
    },
    "tags": []
   },
   "outputs": [],
   "source": []
  }
 ],
 "metadata": {
  "kernelspec": {
   "display_name": "Python 3",
   "language": "python",
   "name": "python3"
  },
  "language_info": {
   "codemirror_mode": {
    "name": "ipython",
    "version": 3
   },
   "file_extension": ".py",
   "mimetype": "text/x-python",
   "name": "python",
   "nbconvert_exporter": "python",
   "pygments_lexer": "ipython3",
   "version": "3.7.3"
  },
  "papermill": {
   "duration": 1.295914,
   "end_time": "2019-09-23T02:34:38.826285",
   "environment_variables": {},
   "exception": null,
   "input_path": "/home/jovyan/work/jupyter/templates/papermill_tutorial/input.ipynb",
   "output_path": "/home/jovyan/work/jupyter/templates/papermill_tutorial/output.ipynb",
   "parameters": {
    "a": "b",
    "b": "a"
   },
   "start_time": "2019-09-23T02:34:37.530371",
   "version": "1.0.1"
  }
 },
 "nbformat": 4,
 "nbformat_minor": 4
}