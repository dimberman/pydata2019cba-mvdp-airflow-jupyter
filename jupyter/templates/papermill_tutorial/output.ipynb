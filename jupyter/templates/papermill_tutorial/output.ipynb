{
 "cells": [
  {
   "cell_type": "markdown",
   "metadata": {
    "papermill": {
     "duration": 0.076201,
     "end_time": "2019-09-23T23:45:11.560012",
     "exception": false,
     "start_time": "2019-09-23T23:45:11.483811",
     "status": "completed"
    },
    "tags": []
   },
   "source": [
    "Set cell metadata!\n",
    "```\n",
    "{\n",
    "    \"tags\": [\n",
    "        \"parameters\"\n",
    "    ]\n",
    "}\n",
    "```"
   ]
  },
  {
   "cell_type": "code",
   "execution_count": 1,
   "metadata": {
    "papermill": {
     "duration": 0.020021,
     "end_time": "2019-09-23T23:45:11.592375",
     "exception": false,
     "start_time": "2019-09-23T23:45:11.572354",
     "status": "completed"
    },
    "tags": [
     "parameters"
    ]
   },
   "outputs": [],
   "source": [
    "#parameters\n",
    "a = 'a'\n",
    "b = 'b'"
   ]
  },
  {
   "cell_type": "code",
   "execution_count": 2,
   "metadata": {
    "papermill": {
     "duration": 0.023075,
     "end_time": "2019-09-23T23:45:11.627379",
     "exception": false,
     "start_time": "2019-09-23T23:45:11.604304",
     "status": "completed"
    },
    "tags": [
     "injected-parameters"
    ]
   },
   "outputs": [],
   "source": [
    "# Parameters\n",
    "a = \"foo\"\n",
    "b = \"bar\"\n"
   ]
  },
  {
   "cell_type": "code",
   "execution_count": 3,
   "metadata": {
    "papermill": {
     "duration": 0.025402,
     "end_time": "2019-09-23T23:45:11.667052",
     "exception": false,
     "start_time": "2019-09-23T23:45:11.641650",
     "status": "completed"
    },
    "tags": []
   },
   "outputs": [
    {
     "name": "stdout",
     "output_type": "stream",
     "text": [
      "a = foo\n"
     ]
    }
   ],
   "source": [
    "print(f'a = {a}')"
   ]
  },
  {
   "cell_type": "code",
   "execution_count": 4,
   "metadata": {
    "papermill": {
     "duration": 0.026655,
     "end_time": "2019-09-23T23:45:11.708159",
     "exception": false,
     "start_time": "2019-09-23T23:45:11.681504",
     "status": "completed"
    },
    "tags": []
   },
   "outputs": [
    {
     "name": "stdout",
     "output_type": "stream",
     "text": [
      "b = bar\n"
     ]
    }
   ],
   "source": [
    "print(f'b = {b}')"
   ]
  },
  {
   "cell_type": "code",
   "execution_count": 5,
   "metadata": {
    "papermill": {
     "duration": 1.07536,
     "end_time": "2019-09-23T23:45:12.796417",
     "exception": false,
     "start_time": "2019-09-23T23:45:11.721057",
     "status": "completed"
    },
    "tags": []
   },
   "outputs": [
    {
     "data": {
      "application/scrapbook.scrap.text+json": {
       "data": "foo",
       "encoder": "text",
       "name": "a_var",
       "version": 1
      }
     },
     "metadata": {
      "scrapbook": {
       "data": true,
       "display": false,
       "name": "a_var"
      }
     },
     "output_type": "display_data"
    },
    {
     "data": {
      "application/scrapbook.scrap.text+json": {
       "data": "bar",
       "encoder": "text",
       "name": "b_var",
       "version": 1
      }
     },
     "metadata": {
      "scrapbook": {
       "data": true,
       "display": false,
       "name": "b_var"
      }
     },
     "output_type": "display_data"
    }
   ],
   "source": [
    "import scrapbook as sb\n",
    "\n",
    "sb.glue(\"a_var\", a)\n",
    "sb.glue(\"b_var\", b)"
   ]
  },
  {
   "cell_type": "code",
   "execution_count": null,
   "metadata": {
    "papermill": {
     "duration": 0.016175,
     "end_time": "2019-09-23T23:45:12.827984",
     "exception": false,
     "start_time": "2019-09-23T23:45:12.811809",
     "status": "completed"
    },
    "tags": []
   },
   "outputs": [],
   "source": []
  }
 ],
 "metadata": {
  "kernelspec": {
   "display_name": "Python 3",
   "language": "python",
   "name": "python3"
  },
  "language_info": {
   "codemirror_mode": {
    "name": "ipython",
    "version": 3
   },
   "file_extension": ".py",
   "mimetype": "text/x-python",
   "name": "python",
   "nbconvert_exporter": "python",
   "pygments_lexer": "ipython3",
   "version": "3.7.3"
  },
  "papermill": {
   "duration": 2.866153,
   "end_time": "2019-09-23T23:45:13.256858",
   "environment_variables": {},
   "exception": null,
   "input_path": "/home/jovyan/work/jupyter/templates/papermill_tutorial/input.ipynb",
   "output_path": "/home/jovyan/work/jupyter/templates/papermill_tutorial/output.ipynb",
   "parameters": {
    "a": "foo",
    "b": "bar"
   },
   "start_time": "2019-09-23T23:45:10.390705",
   "version": "1.0.1"
  }
 },
 "nbformat": 4,
 "nbformat_minor": 4
}